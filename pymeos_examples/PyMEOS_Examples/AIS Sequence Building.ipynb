{
 "cells": [
  {
   "cell_type": "markdown",
   "source": [
    "# AIS Sequence building\n",
    "\n",
    "This example shows two different methods of building temporal sequences: assembling and expanding.  \n",
    "It uses AIS data from a CSV file containing a full day of observations provided by the Danish Maritime Authority.  \n",
    "It is divided in 2 sections, each corresponding to one MEOS example:\n",
    "\n",
    "- [Assemble](https://github.com/estebanzimanyi/MobilityDB/blob/develop/meos/examples/ais_assemble_full.c)\n",
    "- [Expand](https://github.com/estebanzimanyi/MobilityDB/blob/develop/meos/examples/ais_expand_full.c)\n",
    "\n",
    "\n",
    "Note that due to its size, the data file used is not provided. It can be downloaded using the following URL:\n",
    "\n",
    "[https://web.ais.dk/aisdata/aisdk-2023-08-01.zip](https://web.ais.dk/aisdata/aisdk-2023-08-01.zip)\n",
    "\n",
    "Store the file in the [data](./data) directory. There is no need to decompress it."
   ],
   "metadata": {
    "collapsed": false
   },
   "id": "e034ad12c0e9e2dc"
  },
  {
   "cell_type": "code",
   "execution_count": 1,
   "outputs": [],
   "source": [
    "import zipfile as zip\n",
    "from datetime import datetime\n",
    "from typing import Tuple, Optional, Dict, List\n",
    "\n",
    "from pymeos import *\n",
    "import pandas as pd\n",
    "\n",
    "pymeos_initialize()"
   ],
   "metadata": {
    "collapsed": false,
    "ExecuteTime": {
     "end_time": "2023-11-05T10:28:24.235204800Z",
     "start_time": "2023-11-05T10:28:23.966514800Z"
    }
   },
   "id": "c48a9315038fffa"
  },
  {
   "cell_type": "markdown",
   "source": [
    "## Assemble\n",
    "\n",
    "In this section, the sequences are assembled from a list of instants, i.e. we read all the instants in the CSV, and once we have read them all, we create a sequence from it. "
   ],
   "metadata": {
    "collapsed": false
   },
   "id": "ee920bfc3fb7de87"
  },
  {
   "cell_type": "code",
   "execution_count": 2,
   "outputs": [],
   "source": [
    "ships: Dict[int, Dict[datetime, Tuple[TGeogPointInst, TFloatInst]]] = {}"
   ],
   "metadata": {
    "collapsed": false,
    "ExecuteTime": {
     "end_time": "2023-11-05T10:28:24.243205300Z",
     "start_time": "2023-11-05T10:28:24.238204900Z"
    }
   },
   "id": "bddf345b7073f428"
  },
  {
   "cell_type": "markdown",
   "source": [
    "We create now a couple functions that will extract the information we need from a line of the observations CSV, and another one that creates the two instants (Position and SOG) from the extracted information"
   ],
   "metadata": {
    "collapsed": false
   },
   "id": "31146105cd263515"
  },
  {
   "cell_type": "code",
   "execution_count": 3,
   "outputs": [],
   "source": [
    "def get_ais_data(line: bytes) -> Optional[Tuple[int, datetime, float, float, float]]:\n",
    "    fields = line.split(b',')\n",
    "    try:\n",
    "        timestamp = datetime.strptime(fields[0].decode(), \"%m/%d/%Y %H:%M:%S\")\n",
    "        mmsi = int(fields[2])\n",
    "        lat = float(fields[3])\n",
    "        lon = float(fields[4])\n",
    "        sog = float(fields[7])\n",
    "    except:\n",
    "        return None\n",
    "\n",
    "    if mmsi == 0:\n",
    "        return None\n",
    "    if lat < 40.18 or lat > 84.17:\n",
    "        return None\n",
    "    if lon < -16.1 or lon > 32.88:\n",
    "        return None\n",
    "    if sog < 0 or sog > 1022:\n",
    "        return None\n",
    "    return mmsi, timestamp, lat, lon, sog\n"
   ],
   "metadata": {
    "collapsed": false,
    "ExecuteTime": {
     "end_time": "2023-11-05T10:28:24.251204700Z",
     "start_time": "2023-11-05T10:28:24.243205300Z"
    }
   },
   "id": "f0c8636a02beabaf"
  },
  {
   "cell_type": "code",
   "execution_count": 4,
   "outputs": [],
   "source": [
    "def add_instants(ships: Dict[int, Dict[datetime, Tuple[TGeogPointInst, TFloatInst]]],\n",
    "                 mmsi: int,\n",
    "                 timestamp: datetime, lat: float, lon: float, sog: float) -> None:\n",
    "    if mmsi not in ships:\n",
    "        ships[mmsi] = {}\n",
    "    if timestamp in ships[mmsi]:\n",
    "        return\n",
    "    tgi = TGeogPointInst(point=(lon, lat), timestamp=timestamp, srid=4326)\n",
    "    tfi = TFloatInst(value=sog, timestamp=timestamp)\n",
    "    ships[mmsi][timestamp] = (tgi, tfi)\n"
   ],
   "metadata": {
    "collapsed": false,
    "ExecuteTime": {
     "end_time": "2023-11-05T10:28:24.266205900Z",
     "start_time": "2023-11-05T10:28:24.251204700Z"
    }
   },
   "id": "17b829b17f22627c"
  },
  {
   "cell_type": "markdown",
   "source": [
    "Using the previous functions, we process the CSV"
   ],
   "metadata": {
    "collapsed": false
   },
   "id": "dd2c4a7945add6fe"
  },
  {
   "cell_type": "code",
   "execution_count": 5,
   "outputs": [
    {
     "name": "stdout",
     "output_type": "stream",
     "text": [
      "CPU times: user 5min 59s, sys: 2.25 s, total: 6min 1s\n",
      "Wall time: 6min 1s\n"
     ]
    }
   ],
   "source": [
    "%%time\n",
    "with zip.ZipFile('./data/aisdk-2023-08-01.zip', 'r') as ais_zip:\n",
    "    with ais_zip.open('aisdk-2023-08-01.csv', 'r') as ais_file:\n",
    "        header = ais_file.readline()[:-1]\n",
    "        for line in ais_file:\n",
    "            data = get_ais_data(line)\n",
    "            if data is None:\n",
    "                continue\n",
    "            add_instants(ships, *data)\n"
   ],
   "metadata": {
    "collapsed": false,
    "ExecuteTime": {
     "end_time": "2023-11-05T10:34:25.681891100Z",
     "start_time": "2023-11-05T10:28:24.258204400Z"
    }
   },
   "id": "a6423ba059cf1848"
  },
  {
   "cell_type": "markdown",
   "source": [
    "Now, we create the sequences from the list of instants"
   ],
   "metadata": {
    "collapsed": false
   },
   "id": "9bb20383894c921d"
  },
  {
   "cell_type": "code",
   "execution_count": 6,
   "outputs": [
    {
     "name": "stdout",
     "output_type": "stream",
     "text": [
      "CPU times: user 36.1 s, sys: 320 ms, total: 36.5 s\n",
      "Wall time: 36.5 s\n"
     ]
    }
   ],
   "source": [
    "%%time\n",
    "ship_sequences: List[Tuple[int, int, int, int, TGeogPointSeq, TFloatSeq, float, float]] = []\n",
    "for mmsi, instants in ships.items():\n",
    "    geom_point_list = [item[0] for item in instants.values()]\n",
    "    float_inst_list = [item[1] for item in instants.values()]\n",
    "\n",
    "    tg = TGeogPointSeq(instant_list=geom_point_list, upper_inc=True)\n",
    "    tf = TFloatSeq(instant_list=float_inst_list, upper_inc=True)\n",
    "    \n",
    "    distance = tg.length()\n",
    "    average = tf.time_weighted_average()\n",
    "    ship_sequences.append(\n",
    "        (mmsi, len(geom_point_list), tg.num_instants(), tf.num_instants(), tg, tf, distance, average))"
   ],
   "metadata": {
    "collapsed": false,
    "ExecuteTime": {
     "end_time": "2023-11-05T10:35:02.134029300Z",
     "start_time": "2023-11-05T10:34:25.681891100Z"
    }
   },
   "id": "77b59b68b945b960"
  },
  {
   "cell_type": "markdown",
   "source": [
    "We'll use Pandas to show the data"
   ],
   "metadata": {
    "collapsed": false
   },
   "id": "315eb3730a792b7c"
  },
  {
   "cell_type": "code",
   "execution_count": 7,
   "outputs": [
    {
     "data": {
      "text/plain": "        MMSI  #Records  #TripInstants  #SOGInstants      Distance  \\\n0  219020187      8170           6527           402   2563.841481   \n1  219000873      7210           6533          2406  67924.088260   \n2  219008746      8714           7566          1799  32187.308659   \n3  219005496     14103          12850          4580  60577.325209   \n4  219014072       754            566             8    469.887918   \n\n   Average Speed  \n0       0.001800  \n1       1.437300  \n2       0.632541  \n3       1.290721  \n4       0.000399  ",
      "text/html": "<div>\n<style scoped>\n    .dataframe tbody tr th:only-of-type {\n        vertical-align: middle;\n    }\n\n    .dataframe tbody tr th {\n        vertical-align: top;\n    }\n\n    .dataframe thead th {\n        text-align: right;\n    }\n</style>\n<table border=\"1\" class=\"dataframe\">\n  <thead>\n    <tr style=\"text-align: right;\">\n      <th></th>\n      <th>MMSI</th>\n      <th>#Records</th>\n      <th>#TripInstants</th>\n      <th>#SOGInstants</th>\n      <th>Distance</th>\n      <th>Average Speed</th>\n    </tr>\n  </thead>\n  <tbody>\n    <tr>\n      <th>0</th>\n      <td>219020187</td>\n      <td>8170</td>\n      <td>6527</td>\n      <td>402</td>\n      <td>2563.841481</td>\n      <td>0.001800</td>\n    </tr>\n    <tr>\n      <th>1</th>\n      <td>219000873</td>\n      <td>7210</td>\n      <td>6533</td>\n      <td>2406</td>\n      <td>67924.088260</td>\n      <td>1.437300</td>\n    </tr>\n    <tr>\n      <th>2</th>\n      <td>219008746</td>\n      <td>8714</td>\n      <td>7566</td>\n      <td>1799</td>\n      <td>32187.308659</td>\n      <td>0.632541</td>\n    </tr>\n    <tr>\n      <th>3</th>\n      <td>219005496</td>\n      <td>14103</td>\n      <td>12850</td>\n      <td>4580</td>\n      <td>60577.325209</td>\n      <td>1.290721</td>\n    </tr>\n    <tr>\n      <th>4</th>\n      <td>219014072</td>\n      <td>754</td>\n      <td>566</td>\n      <td>8</td>\n      <td>469.887918</td>\n      <td>0.000399</td>\n    </tr>\n  </tbody>\n</table>\n</div>"
     },
     "execution_count": 7,
     "metadata": {},
     "output_type": "execute_result"
    }
   ],
   "source": [
    "df = pd.DataFrame(ship_sequences, columns=['MMSI', '#Records', '#TripInstants', '#SOGInstants', 'Trajectory', 'SOG', 'Distance', 'Average Speed'])\n",
    "df[['MMSI', '#Records', '#TripInstants', '#SOGInstants', 'Distance', 'Average Speed']].head()"
   ],
   "metadata": {
    "collapsed": false,
    "ExecuteTime": {
     "end_time": "2023-11-05T10:35:02.145029500Z",
     "start_time": "2023-11-05T10:35:02.133032200Z"
    }
   },
   "id": "4b8a5947fbc13f84"
  }
 ],
 "metadata": {
  "kernelspec": {
   "display_name": "Python 3",
   "language": "python",
   "name": "python3"
  },
  "language_info": {
   "codemirror_mode": {
    "name": "ipython",
    "version": 2
   },
   "file_extension": ".py",
   "mimetype": "text/x-python",
   "name": "python",
   "nbconvert_exporter": "python",
   "pygments_lexer": "ipython2",
   "version": "2.7.6"
  }
 },
 "nbformat": 4,
 "nbformat_minor": 5
}
